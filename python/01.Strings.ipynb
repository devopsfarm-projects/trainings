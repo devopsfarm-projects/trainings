{
 "cells": [
  {
   "cell_type": "markdown",
   "metadata": {},
   "source": [
    "# Strings"
   ]
  },
  {
   "cell_type": "markdown",
   "metadata": {},
   "source": [
    "### 01.Basic strings"
   ]
  },
  {
   "cell_type": "code",
   "execution_count": null,
   "metadata": {},
   "outputs": [],
   "source": [
    "message = \"Hello World\"\n",
    "print(message)\n",
    "\n",
    "# print(dir(message))\n",
    "print(help(str.count))"
   ]
  },
  {
   "cell_type": "markdown",
   "metadata": {},
   "source": [
    "### 02.String Methods"
   ]
  },
  {
   "cell_type": "code",
   "execution_count": null,
   "metadata": {},
   "outputs": [],
   "source": [
    "\n",
    "# upper case \n",
    "print(message.upper())\n",
    "\n",
    "\n",
    "#lower case \n",
    "\n",
    "print(message.lower())\n",
    "\n",
    "\n",
    "\n",
    "#length of the string\n",
    "print(\"length of the string is : \",len(message))\n",
    "\n",
    "# counting the string or character in the string\n",
    "print(message.count('i'))\n",
    "\n",
    "# replace the value in string\n",
    "\n",
    "# this method returns a new strig and does not change the actual string \n",
    "message = message.replace(\"World\", \"All\")\n",
    "print(message)\n",
    "\n",
    "\n",
    "# find method returs index of first occurence \n",
    "\n",
    "print(message.find('l'))\n"
   ]
  },
  {
   "cell_type": "markdown",
   "metadata": {},
   "source": [
    "### 03.Slicing \n"
   ]
  },
  {
   "cell_type": "markdown",
   "metadata": {},
   "source": [
    "\n",
    " string[index] \n",
    "\n",
    " string[startIndex: endIndex]\n",
    "\n",
    " startIndex --> included\n",
    " endIndex --> excluded\n",
    "\n",
    " ----\n",
    " ```python\n",
    " message = \"Nikhil Yadav\"\n",
    " message[1:]\n",
    " ```"
   ]
  },
  {
   "cell_type": "code",
   "execution_count": null,
   "metadata": {},
   "outputs": [],
   "source": [
    "# slicing\n",
    "\n",
    "print(message[0:3])\n",
    "\n",
    "# by default starts from 0 \n",
    "print (message[:3])\n",
    "\n",
    "print(message[0])"
   ]
  },
  {
   "cell_type": "markdown",
   "metadata": {},
   "source": [
    "### 04.String Concatination"
   ]
  },
  {
   "cell_type": "code",
   "execution_count": null,
   "metadata": {},
   "outputs": [],
   "source": [
    "greeting = \"Hello\"\n",
    "name = \"Nikhil\"\n",
    "\n",
    "print(greeting+\" \"+name)"
   ]
  },
  {
   "cell_type": "code",
   "execution_count": null,
   "metadata": {},
   "outputs": [],
   "source": [
    "first_name = \"Nikhil\"\n",
    "last_name = \"yadav\"\n",
    "\n",
    "greeting1 = \"Hello {} {}\".format(first_name, last_name)\n",
    "greeting1 = \"Hello {first_name} {last_name}\".format(first_name=first_name, last_name=last_name)\n",
    "\n",
    "print(greeting1)\n",
    "\n",
    "greeting2 = f\"Hello {first_name} {last_name}, how are you!\"\n",
    "print(greeting2)\n",
    "\n",
    "greeting3 = \"Hello %s %s, have a good day\" \n",
    "\n",
    "print(greeting3 %( first_name, last_name))"
   ]
  }
 ],
 "metadata": {
  "kernelspec": {
   "display_name": "Python 3",
   "language": "python",
   "name": "python3"
  },
  "language_info": {
   "codemirror_mode": {
    "name": "ipython",
    "version": 3
   },
   "file_extension": ".py",
   "mimetype": "text/x-python",
   "name": "python",
   "nbconvert_exporter": "python",
   "pygments_lexer": "ipython3",
   "version": "3.10.13"
  }
 },
 "nbformat": 4,
 "nbformat_minor": 2
}
