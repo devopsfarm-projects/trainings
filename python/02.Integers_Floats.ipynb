{
 "cells": [
  {
   "cell_type": "markdown",
   "metadata": {},
   "source": [
    "# Numbers (Integers, Floats)"
   ]
  },
  {
   "cell_type": "markdown",
   "metadata": {},
   "source": [
    "### Integers and Floats"
   ]
  },
  {
   "cell_type": "code",
   "execution_count": 30,
   "metadata": {},
   "outputs": [
    {
     "name": "stdout",
     "output_type": "stream",
     "text": [
      "<class 'int'>\n"
     ]
    }
   ],
   "source": [
    "num = 3 \n",
    "\n",
    "print(type(num))"
   ]
  },
  {
   "cell_type": "code",
   "execution_count": 31,
   "metadata": {},
   "outputs": [
    {
     "name": "stdout",
     "output_type": "stream",
     "text": [
      "<class 'float'>\n"
     ]
    }
   ],
   "source": [
    "num = 3.14 \n",
    "print (type(num))"
   ]
  },
  {
   "cell_type": "markdown",
   "metadata": {},
   "source": [
    "\n",
    "### Airthmetic Operators\n",
    "```python\n",
    " #### Addition : 3 + 2 \n",
    " #### Subtraction : 3 - 2 \n",
    " #### Multiplication : 3 * 2\n",
    " #### Division : 3 / 2 \n",
    " #### Floor Division : 3 // 2\n",
    " #### Exponential : 3 ** 2 \n",
    " #### Modulus : 3 % 2 \n",
    " ```"
   ]
  },
  {
   "cell_type": "code",
   "execution_count": 32,
   "metadata": {},
   "outputs": [
    {
     "name": "stdout",
     "output_type": "stream",
     "text": [
      "Addition : 3 + 2 = 5\n",
      "Subtraction : 3 - 2 = 1\n",
      "Multiplication : 3 * 2 = 6\n",
      "Division : 3 / 2  = 1.5\n",
      "Floor Division : 3 // 2 = 1\n",
      "Exponential : 3 ** 2 = 9\n",
      "Modulus : 3 % 2 = 1\n"
     ]
    }
   ],
   "source": [
    "print ( \"Addition : 3 + 2 =\", 3 + 2 )\n",
    "print ( \"Subtraction : 3 - 2 =\", 3 - 2 )\n",
    "print ( \"Multiplication : 3 * 2 =\", 3 * 2 )\n",
    "print ( \"Division : 3 / 2  =\", 3 / 2 )\n",
    "print ( \"Floor Division : 3 // 2 =\", 3 // 2 )\n",
    "print ( \"Exponential : 3 ** 2 =\", 3 **  2 )\n",
    "print ( \"Modulus : 3 % 2 =\", 3 % 2 )"
   ]
  },
  {
   "cell_type": "code",
   "execution_count": 33,
   "metadata": {},
   "outputs": [
    {
     "name": "stdout",
     "output_type": "stream",
     "text": [
      "11\n"
     ]
    }
   ],
   "source": [
    "num = 10 \n",
    "num += 1 \n",
    "\n",
    "# in python for simplicity pre and post increments are not used \n",
    "print(num)"
   ]
  },
  {
   "cell_type": "code",
   "execution_count": 39,
   "metadata": {},
   "outputs": [
    {
     "name": "stdout",
     "output_type": "stream",
     "text": [
      "3\n",
      "4\n",
      "3\n",
      "3.15\n"
     ]
    }
   ],
   "source": [
    "# Absolute Value \n",
    "\n",
    "num = -3 \n",
    "\n",
    "print(abs(-3))\n",
    "\n",
    "\n",
    "# Round off \n",
    "\n",
    "num = 3.75 \n",
    "\n",
    "print(round(num))\n",
    "\n",
    "num = 3.1456 \n",
    "\n",
    "print(round(num))\n",
    "\n",
    "\n",
    "print (round(num,2))"
   ]
  },
  {
   "cell_type": "markdown",
   "metadata": {},
   "source": [
    "### Comparision Operators\n"
   ]
  },
  {
   "cell_type": "markdown",
   "metadata": {},
   "source": [
    "```python\n",
    "# Compariosion \n",
    "\n",
    "# equal 3 == 2\n",
    "# not equal to 3 != 2 \n",
    "# greater than  3 > 2 \n",
    "# less than 3 < 2\n",
    "# greater than equal to 3 >= 2\n",
    "# less than equal to 3 <= 2\n",
    "```"
   ]
  },
  {
   "cell_type": "code",
   "execution_count": 3,
   "metadata": {},
   "outputs": [
    {
     "name": "stdout",
     "output_type": "stream",
     "text": [
      "3\n"
     ]
    }
   ],
   "source": [
    "num1 = '1'\n",
    "num2 = '2'\n",
    "\n",
    "print(int(num2)+int(num1))"
   ]
  }
 ],
 "metadata": {
  "kernelspec": {
   "display_name": "Python 3",
   "language": "python",
   "name": "python3"
  },
  "language_info": {
   "codemirror_mode": {
    "name": "ipython",
    "version": 3
   },
   "file_extension": ".py",
   "mimetype": "text/x-python",
   "name": "python",
   "nbconvert_exporter": "python",
   "pygments_lexer": "ipython3",
   "version": "3.10.13"
  }
 },
 "nbformat": 4,
 "nbformat_minor": 2
}
