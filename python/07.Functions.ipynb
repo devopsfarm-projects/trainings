{
 "cells": [
  {
   "cell_type": "markdown",
   "id": "370aef77",
   "metadata": {},
   "source": [
    "# Functions"
   ]
  },
  {
   "cell_type": "markdown",
   "id": "7fba8eca",
   "metadata": {},
   "source": [
    "When we want to use a code snippet multiple time instead of writing that code we use functions \n",
    "\n",
    "They provide us the approach of using multiple time the same code via calling or invoking them "
   ]
  },
  {
   "cell_type": "code",
   "execution_count": null,
   "id": "ef7505e9",
   "metadata": {},
   "outputs": [],
   "source": [
    "def hello_func():\n",
    "    print(\"Hello All\")\n",
    "\n",
    "hello_func()"
   ]
  },
  {
   "cell_type": "code",
   "execution_count": null,
   "id": "2c32cd30",
   "metadata": {},
   "outputs": [],
   "source": [
    "def dummy_func():\n",
    "    pass\n",
    "\n",
    "\n",
    "dummy_func()\n",
    "\n",
    "def greeting(name):\n",
    "    print(f'hello {name}, how are you ?')\n",
    "\n",
    "greeting('Nikhil Yadav')\n",
    "\n",
    "def default_greeting(name='USER'):\n",
    "    print(f'hello {name}, how are you ?')\n",
    "\n",
    "default_greeting()"
   ]
  },
  {
   "cell_type": "code",
   "execution_count": null,
   "id": "b9bf6ad2",
   "metadata": {},
   "outputs": [],
   "source": [
    "def add(a,b):\n",
    "    return a+b\n",
    "\n",
    "\n",
    "add(2,6)\n"
   ]
  },
  {
   "cell_type": "markdown",
   "id": "3581222c",
   "metadata": {},
   "source": [
    "### Args and Kwargs \n",
    "\n",
    "def func_foo(*args, **kwargs):\n",
    "    print(args, kwargs)\n",
    "\n",
    "args => arguments no provided to function \n",
    "kwargs ==> key value args provided to function "
   ]
  },
  {
   "cell_type": "code",
   "execution_count": 18,
   "id": "7f8fdcf4",
   "metadata": {},
   "outputs": [
    {
     "name": "stdout",
     "output_type": "stream",
     "text": [
      "<===ARGS===> ('nikhil', 2, 3)\n",
      "<===KWARGS===> {'lName': 'yadav', 'age': 34}\n",
      "-----> i ---> yadav\n",
      "-----> i ---> 34\n",
      "args as tuple nikhil\n",
      "args as tuple 2\n",
      "args as tuple 3\n"
     ]
    }
   ],
   "source": [
    "def foo(*args, **kwargs):\n",
    "    print(\"<===ARGS===>\",args)\n",
    "    print(\"<===KWARGS===>\",kwargs)\n",
    "\n",
    "    for i in kwargs.values():\n",
    "        print(\"-----> i --->\", i)\n",
    "    \n",
    "    for i in args:\n",
    "        print(\"args as tuple\", i)\n",
    "    \n",
    "\n",
    "\n",
    "foo(\"nikhil\", 2, 3 , lName=\"yadav\", age=34)"
   ]
  },
  {
   "cell_type": "code",
   "execution_count": 22,
   "id": "e8ae137b",
   "metadata": {},
   "outputs": [
    {
     "name": "stdout",
     "output_type": "stream",
     "text": [
      "<===ARGS===> ('nikhil', 20, 30)\n",
      "<===KWARGS===> {'lName': 'Yadav', 'age': 34}\n",
      "-----> i ---> Yadav\n",
      "-----> i ---> 34\n",
      "args as tuple nikhil\n",
      "args as tuple 20\n",
      "args as tuple 30\n"
     ]
    }
   ],
   "source": [
    "list_val = [\"nikhil\", 20, 30]\n",
    "dict_val = {\"lName\": \"Yadav\", \"age\": 34}\n",
    "\n",
    "foo(*list_val, **dict_val)"
   ]
  }
 ],
 "metadata": {
  "kernelspec": {
   "display_name": "Python 3",
   "language": "python",
   "name": "python3"
  },
  "language_info": {
   "codemirror_mode": {
    "name": "ipython",
    "version": 3
   },
   "file_extension": ".py",
   "mimetype": "text/x-python",
   "name": "python",
   "nbconvert_exporter": "python",
   "pygments_lexer": "ipython3",
   "version": "3.10.13"
  }
 },
 "nbformat": 4,
 "nbformat_minor": 5
}
