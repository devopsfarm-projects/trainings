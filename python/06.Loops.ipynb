{
 "cells": [
  {
   "cell_type": "markdown",
   "id": "24153524",
   "metadata": {},
   "source": [
    "# Loops"
   ]
  },
  {
   "cell_type": "markdown",
   "id": "db79261c",
   "metadata": {},
   "source": [
    "If we want to perform any task n number of times or iteratively than we use loop concept \n",
    "\n",
    "mostly in python we use for loop and while loop \n",
    "\n"
   ]
  },
  {
   "cell_type": "code",
   "execution_count": null,
   "id": "13d377a6",
   "metadata": {},
   "outputs": [],
   "source": [
    "nums = [1, 2, 3, 4]\n",
    "\n",
    "for num in nums:\n",
    "    print(num)"
   ]
  },
  {
   "cell_type": "code",
   "execution_count": 5,
   "id": "53f0c43c",
   "metadata": {},
   "outputs": [
    {
     "name": "stdout",
     "output_type": "stream",
     "text": [
      "range is :  0\n",
      "range is :  1\n",
      "range is :  2\n",
      "range is :  3\n",
      "range is :  4\n",
      "--------------------\n",
      "1\n",
      "3\n",
      "5\n",
      "7\n",
      "9\n",
      "--------------------\n",
      "10\n",
      "8\n",
      "6\n",
      "4\n",
      "2\n"
     ]
    }
   ],
   "source": [
    "# if we want to perform action in a range or defined iteration we can use range \n",
    "\n",
    "for i in range(5):\n",
    "    print (\"range is : \", i)\n",
    "\n",
    "print(20*\"-\")\n",
    "\n",
    "for i in range(1, 10, 2):\n",
    "    print(i)\n",
    "\n",
    "print(20*\"-\")\n",
    "for i in range(10, 1, -2):\n",
    "    print(i)"
   ]
  },
  {
   "cell_type": "code",
   "execution_count": 6,
   "id": "1276588f",
   "metadata": {},
   "outputs": [
    {
     "name": "stdout",
     "output_type": "stream",
     "text": [
      "0--->a\n",
      "0--->b\n",
      "0--->c\n",
      "1--->a\n",
      "1--->b\n",
      "1--->c\n",
      "2--->a\n",
      "2--->b\n",
      "2--->c\n",
      "3--->a\n",
      "3--->b\n",
      "3--->c\n",
      "4--->a\n",
      "4--->b\n",
      "4--->c\n"
     ]
    }
   ],
   "source": [
    "# Nested Loop \n",
    "\n",
    "\n",
    "for i in range(5):\n",
    "    for x in 'abc':\n",
    "        print(f'{i}--->{x}')"
   ]
  },
  {
   "cell_type": "code",
   "execution_count": 11,
   "id": "3c54125b",
   "metadata": {},
   "outputs": [
    {
     "name": "stdout",
     "output_type": "stream",
     "text": [
      "0\n",
      "1\n",
      "2\n",
      "3\n",
      "4\n",
      "5\n",
      "6\n"
     ]
    }
   ],
   "source": [
    "# break and continue \n",
    "\n",
    "#! Break used mostly to quit the loop and continue is use to skip the loop \n",
    "\n",
    "\n",
    "for i in range(10):\n",
    "    if i ==7:\n",
    "        break\n",
    "    else:\n",
    "        print(i)\n",
    "        continue\n",
    "    "
   ]
  },
  {
   "cell_type": "code",
   "execution_count": 13,
   "id": "80642659",
   "metadata": {},
   "outputs": [
    {
     "name": "stdout",
     "output_type": "stream",
     "text": [
      "1\n",
      "2\n",
      "3\n",
      "4\n",
      "5\n"
     ]
    }
   ],
   "source": [
    "# While loop \n",
    "\n",
    "x=0\n",
    "\n",
    "while x <10:\n",
    "    if x == 5:\n",
    "        break\n",
    "    x += 1\n",
    "    print(x)\n",
    "\n",
    "\n"
   ]
  }
 ],
 "metadata": {
  "kernelspec": {
   "display_name": "Python 3",
   "language": "python",
   "name": "python3"
  },
  "language_info": {
   "codemirror_mode": {
    "name": "ipython",
    "version": 3
   },
   "file_extension": ".py",
   "mimetype": "text/x-python",
   "name": "python",
   "nbconvert_exporter": "python",
   "pygments_lexer": "ipython3",
   "version": "3.10.13"
  }
 },
 "nbformat": 4,
 "nbformat_minor": 5
}
