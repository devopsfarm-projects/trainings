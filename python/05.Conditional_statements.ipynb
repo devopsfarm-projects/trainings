{
 "cells": [
  {
   "cell_type": "markdown",
   "metadata": {},
   "source": [
    "# Conditional Statements"
   ]
  },
  {
   "cell_type": "markdown",
   "metadata": {},
   "source": [
    "Conditional statements are whether true or false \n",
    "\n",
    "in python we use if and else for handling those conditions \n",
    "\n",
    "![](./Simple-if.webp)"
   ]
  },
  {
   "cell_type": "markdown",
   "metadata": {},
   "source": [
    "syntax \n",
    "\n",
    "```python\n",
    "if CONDITION:\n",
    "    // required logic\n",
    "else:\n",
    "    // else Block\n",
    "```"
   ]
  },
  {
   "cell_type": "code",
   "execution_count": null,
   "metadata": {},
   "outputs": [],
   "source": [
    "# comparision\n",
    "\n",
    "# Equal ==\n",
    "# Not Equal !=\n",
    "# Greater than > \n",
    "# Less than < \n",
    "# Greater Than Equal To > = \n",
    "# Less Than Equal To < = \n",
    "# Object Identity is "
   ]
  },
  {
   "cell_type": "code",
   "execution_count": 3,
   "metadata": {},
   "outputs": [
    {
     "name": "stdout",
     "output_type": "stream",
     "text": [
      "Java condition case true\n"
     ]
    }
   ],
   "source": [
    "# language = 'Python'\n",
    "\n",
    "language = 'Java'\n",
    "\n",
    "if language == 'Python':\n",
    "    print ('Conditional case is correct')\n",
    "elif language == 'Java':\n",
    "    print('Java condition case true')\n",
    "else: \n",
    "    print('Conditional case is failes')\n",
    "\n"
   ]
  },
  {
   "cell_type": "code",
   "execution_count": 9,
   "metadata": {},
   "outputs": [
    {
     "name": "stdout",
     "output_type": "stream",
     "text": [
      "Bad Cred\n"
     ]
    }
   ],
   "source": [
    "#  Combination conditional statements \n",
    "\n",
    "# and\n",
    "# or\n",
    "# not\n",
    "\n",
    "\n",
    "user ='Admin'\n",
    "\n",
    "is_loggedIn = False\n",
    "\n",
    "\n",
    "if user and is_loggedIn:\n",
    "    print(\"Admin page opened\")\n",
    "else:\n",
    "    print('Bad Cred')"
   ]
  },
  {
   "cell_type": "code",
   "execution_count": 10,
   "metadata": {},
   "outputs": [
    {
     "name": "stdout",
     "output_type": "stream",
     "text": [
      "Please Logged In ...\n"
     ]
    }
   ],
   "source": [
    "if not is_loggedIn:\n",
    "    print('Please Logged In ...')\n",
    "else:\n",
    "    print('Thanks for logged In')"
   ]
  },
  {
   "cell_type": "markdown",
   "metadata": {},
   "source": [
    "# Object identity \n",
    "\n",
    "\n",
    "is keyword checks for the hash id in the memory "
   ]
  },
  {
   "cell_type": "code",
   "execution_count": 17,
   "metadata": {},
   "outputs": [
    {
     "name": "stdout",
     "output_type": "stream",
     "text": [
      "True\n",
      "True\n"
     ]
    }
   ],
   "source": [
    "a = [1, 2, 3]\n",
    "b = [1, 2, 3]\n",
    "\n",
    "print(a == b)  # returns true value as both value are equal \n",
    "\n",
    "a = [1, 2, 3]\n",
    "b = a\n",
    "\n",
    "print( a is b) # now return truw because both a and b are pointing to the same id or hash id "
   ]
  },
  {
   "cell_type": "code",
   "execution_count": null,
   "metadata": {},
   "outputs": [
    {
     "name": "stdout",
     "output_type": "stream",
     "text": [
      "condition is not true\n",
      "False\n"
     ]
    }
   ],
   "source": [
    "#  False values:\n",
    "    # False\n",
    "    # None\n",
    "    # Zero of any numeroic type \n",
    "    # Any empty sequence , [], (), ''\n",
    "    # Any emptty mapping , {}   \n",
    "\n",
    "condition = 0\n",
    "if condition:\n",
    "    print('Condition is true')\n",
    "else:\n",
    "    print('condition is not true')\n",
    "\n",
    "\n"
   ]
  }
 ],
 "metadata": {
  "kernelspec": {
   "display_name": "Python 3",
   "language": "python",
   "name": "python3"
  },
  "language_info": {
   "codemirror_mode": {
    "name": "ipython",
    "version": 3
   },
   "file_extension": ".py",
   "mimetype": "text/x-python",
   "name": "python",
   "nbconvert_exporter": "python",
   "pygments_lexer": "ipython3",
   "version": "3.10.13"
  }
 },
 "nbformat": 4,
 "nbformat_minor": 2
}
