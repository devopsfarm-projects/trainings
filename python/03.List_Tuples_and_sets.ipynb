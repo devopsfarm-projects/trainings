{
 "cells": [
  {
   "cell_type": "markdown",
   "id": "f289eee3",
   "metadata": {},
   "source": [
    "# List, Tuples and Sets"
   ]
  },
  {
   "cell_type": "markdown",
   "id": "510d2926",
   "metadata": {},
   "source": [
    "# Lists"
   ]
  },
  {
   "cell_type": "markdown",
   "id": "99d312fa",
   "metadata": {},
   "source": [
    "List and tuples allows to work wih sequentila data and sets are unordered collection "
   ]
  },
  {
   "cell_type": "code",
   "execution_count": 40,
   "id": "12ca973c",
   "metadata": {},
   "outputs": [
    {
     "name": "stdout",
     "output_type": "stream",
     "text": [
      "['Maths', 'History', 'Science', 'English', 'arthmetic']\n",
      "5\n",
      "Science\n",
      "arthmetic\n",
      "['History', 'Science']\n"
     ]
    }
   ],
   "source": [
    "courses = [\"Maths\", \"History\", \"Science\", \"English\",\"arthmetic\"]\n",
    "\n",
    "print(courses)\n",
    "\n",
    "# length of the list \n",
    "\n",
    "print(len(courses))\n",
    "\n",
    "# Getting particular element \n",
    "\n",
    "print(courses[2])\n",
    "\n",
    "# getting elements in reverse order \n",
    "\n",
    "print(courses[-1])\n",
    "\n",
    "\n",
    "# acessing range of values \n",
    "\n",
    "# startIndex --- > inclusive \n",
    "# endIndex -----> exclusive \n",
    "\n",
    "print(courses[1:3])"
   ]
  },
  {
   "cell_type": "code",
   "execution_count": 41,
   "id": "b84c05de",
   "metadata": {},
   "outputs": [
    {
     "name": "stdout",
     "output_type": "stream",
     "text": [
      "['Maths', 'History', 'Science', 'English', 'arthmetic', 'Arts']\n",
      "['Maths', 'History', 'civics', 'Science', 'English', 'arthmetic', 'Arts']\n",
      "['Maths', 'History', 'civics', 'Science', 'English', 'arthmetic', 'Arts', 'EVS', 'craft']\n"
     ]
    }
   ],
   "source": [
    "# Addding item in the list \n",
    "\n",
    "courses.append(\"Arts\")  # this will add the value in the end of the list \n",
    "\n",
    "print(courses)\n",
    "\n",
    "\n",
    "# to add the element in the specific location \n",
    "\n",
    "\n",
    "courses.insert(2, 'civics')\n",
    "\n",
    "print(courses)\n",
    "\n",
    "\n",
    "# if want to add extra list in current list flat addition we use extend \n",
    "\n",
    "\n",
    "courses_2 = [\"EVS\", \"craft\"]\n",
    "\n",
    "courses.extend(courses_2)\n",
    "\n",
    "print(courses)"
   ]
  },
  {
   "cell_type": "code",
   "execution_count": 42,
   "id": "407903c3",
   "metadata": {},
   "outputs": [
    {
     "name": "stdout",
     "output_type": "stream",
     "text": [
      "['Maths', 'History', 'civics', 'Science', 'English', 'arthmetic', 'Arts', 'craft']\n",
      "['craft', 'Arts', 'arthmetic', 'English', 'Science', 'civics', 'History', 'Maths']\n"
     ]
    }
   ],
   "source": [
    "# removing element from the list \n",
    "\n",
    "\n",
    "courses.remove('EVS')\n",
    "\n",
    "print(courses)\n",
    "\n",
    "# reverse the list \n",
    "courses.reverse()\n",
    "\n",
    "print(courses)"
   ]
  },
  {
   "cell_type": "code",
   "execution_count": 43,
   "id": "45c5d8ac",
   "metadata": {},
   "outputs": [
    {
     "name": "stdout",
     "output_type": "stream",
     "text": [
      "['craft', 'civics', 'arthmetic', 'Science', 'Maths', 'History', 'English', 'Arts']\n",
      "['Arts', 'English', 'History', 'Maths', 'Science', 'arthmetic', 'civics', 'craft']\n"
     ]
    }
   ],
   "source": [
    "courses.sort()\n",
    "\n",
    "# if we want to sort in desc order \n",
    "\n",
    "courses.sort(reverse=True)\n",
    "print(courses)\n",
    "\n",
    "# if we want to create a new copy of the sorted list rather alterning the list \n",
    "\n",
    "\n",
    "sortedCourses = sorted(courses)\n",
    "\n",
    "print(sortedCourses)"
   ]
  },
  {
   "cell_type": "code",
   "execution_count": 44,
   "id": "b9473bad",
   "metadata": {},
   "outputs": [
    {
     "name": "stdout",
     "output_type": "stream",
     "text": [
      "29\n",
      "9\n",
      "1\n"
     ]
    }
   ],
   "source": [
    "# finding Min , Max and sum of the list \n",
    "\n",
    "\n",
    "nums = [5, 3 , 9, 7, 4, 1]\n",
    "\n",
    "print(sum(nums))\n",
    "print(max(nums))\n",
    "print(min(nums))"
   ]
  },
  {
   "cell_type": "code",
   "execution_count": 45,
   "id": "ca01ea79",
   "metadata": {},
   "outputs": [
    {
     "name": "stdout",
     "output_type": "stream",
     "text": [
      "0 craft\n",
      "1 civics\n",
      "2 arthmetic\n",
      "3 Science\n",
      "4 Maths\n",
      "5 History\n",
      "6 English\n",
      "7 Arts\n"
     ]
    }
   ],
   "source": [
    "for idx,course in enumerate(courses):\n",
    "    print(idx,course)"
   ]
  },
  {
   "cell_type": "code",
   "execution_count": 46,
   "id": "b00ea70f",
   "metadata": {},
   "outputs": [
    {
     "name": "stdout",
     "output_type": "stream",
     "text": [
      "craft - civics - arthmetic - Science - Maths - History - English - Arts\n",
      "['craft', 'civics', 'arthmetic', 'Science', 'Maths', 'History', 'English', 'Arts']\n"
     ]
    }
   ],
   "source": [
    "# join the elements of the list \n",
    "# return the new string from the method \n",
    "new_str = \" - \".join(courses)\n",
    "print(new_str)\n",
    "\n",
    "# if want to make list from the string \n",
    "print(new_str.split(\" - \"))"
   ]
  },
  {
   "cell_type": "markdown",
   "id": "089fee66",
   "metadata": {},
   "source": [
    "# Tuples"
   ]
  },
  {
   "cell_type": "code",
   "execution_count": 51,
   "id": "558e3030",
   "metadata": {},
   "outputs": [
    {
     "name": "stdout",
     "output_type": "stream",
     "text": [
      "cricket\n"
     ]
    },
    {
     "ename": "TypeError",
     "evalue": "'tuple' object does not support item assignment",
     "output_type": "error",
     "traceback": [
      "\u001b[0;31m---------------------------------------------------------------------------\u001b[0m",
      "\u001b[0;31mTypeError\u001b[0m                                 Traceback (most recent call last)",
      "Cell \u001b[0;32mIn[51], line 9\u001b[0m\n\u001b[1;32m      6\u001b[0m hobbies \u001b[38;5;241m=\u001b[39m (\u001b[38;5;124m\"\u001b[39m\u001b[38;5;124mcricket\u001b[39m\u001b[38;5;124m\"\u001b[39m, \u001b[38;5;124m\"\u001b[39m\u001b[38;5;124mfootball\u001b[39m\u001b[38;5;124m\"\u001b[39m)\n\u001b[1;32m      7\u001b[0m \u001b[38;5;28mprint\u001b[39m(hobbies[\u001b[38;5;241m0\u001b[39m])\n\u001b[0;32m----> 9\u001b[0m \u001b[43mhobbies\u001b[49m\u001b[43m[\u001b[49m\u001b[38;5;241;43m0\u001b[39;49m\u001b[43m]\u001b[49m \u001b[38;5;241m=\u001b[39m \u001b[38;5;124m\"\u001b[39m\u001b[38;5;124mcooking\u001b[39m\u001b[38;5;124m\"\u001b[39m\n\u001b[1;32m     10\u001b[0m \u001b[38;5;28mprint\u001b[39m(hobbies)\n\u001b[1;32m     14\u001b[0m list_1 \u001b[38;5;241m=\u001b[39m [\u001b[38;5;124m\"\u001b[39m\u001b[38;5;124marts\u001b[39m\u001b[38;5;124m\"\u001b[39m,\u001b[38;5;124m\"\u001b[39m\u001b[38;5;124mmaths\u001b[39m\u001b[38;5;124m\"\u001b[39m, \u001b[38;5;124m\"\u001b[39m\u001b[38;5;124mscience\u001b[39m\u001b[38;5;124m\"\u001b[39m]\n",
      "\u001b[0;31mTypeError\u001b[0m: 'tuple' object does not support item assignment"
     ]
    }
   ],
   "source": [
    "# As like lists they are also the collection of the elements but we cannot alter the tuples as list \n",
    "\n",
    "\n",
    "#! Tupples arre immutable in nature \n",
    "\n",
    "hobbies = (\"cricket\", \"football\")\n",
    "print(hobbies[0])\n",
    "\n",
    "hobbies[0] = \"cooking\"\n",
    "print(hobbies)\n",
    "\n",
    "\n",
    "\n",
    "list_1 = [\"arts\",\"maths\", \"science\"]\n",
    "list_2 = list_1\n",
    "\n",
    "list_1[0] = \"history\"\n",
    "\n",
    "print(list_1)\n",
    "print(list_2)\n",
    "\n",
    "\n"
   ]
  },
  {
   "cell_type": "markdown",
   "id": "18499887",
   "metadata": {},
   "source": [
    "# Sets"
   ]
  },
  {
   "cell_type": "code",
   "execution_count": null,
   "id": "8a6d1de0",
   "metadata": {},
   "outputs": [
    {
     "name": "stdout",
     "output_type": "stream",
     "text": [
      "{'arts', 'mathametics', 'english'}\n"
     ]
    }
   ],
   "source": [
    "# collection of values which are unordered and no duplicates are termed as sets\n",
    "\n",
    "courses_sets = {\"arts\", \"mathametics\", \"english\"}\n",
    "\n",
    "print(courses_sets)"
   ]
  },
  {
   "cell_type": "code",
   "execution_count": 57,
   "id": "9a63a213",
   "metadata": {},
   "outputs": [
    {
     "name": "stdout",
     "output_type": "stream",
     "text": [
      "{'History'}\n",
      "{'Physics', 'CompSci', 'Maths'}\n",
      "{'History', 'Physics', 'CompSci', 'Maths', 'Design', 'Arts'}\n"
     ]
    }
   ],
   "source": [
    "cs_courses = {'Maths', 'CompSci', 'Physics', 'History'}\n",
    "art_courses = {'Arts', 'History', 'Design'}\n",
    "\n",
    "#!  common elelent in both the sets\n",
    "\n",
    "print(cs_courses.intersection(art_courses))\n",
    "\n",
    "\n",
    "#  Different courses \n",
    "\n",
    "print(cs_courses.difference(art_courses))\n",
    "\n",
    "# uninon of sets \n",
    "\n",
    "print(cs_courses.union(art_courses))"
   ]
  }
 ],
 "metadata": {
  "kernelspec": {
   "display_name": "Python 3",
   "language": "python",
   "name": "python3"
  },
  "language_info": {
   "codemirror_mode": {
    "name": "ipython",
    "version": 3
   },
   "file_extension": ".py",
   "mimetype": "text/x-python",
   "name": "python",
   "nbconvert_exporter": "python",
   "pygments_lexer": "ipython3",
   "version": "3.10.13"
  }
 },
 "nbformat": 4,
 "nbformat_minor": 5
}
