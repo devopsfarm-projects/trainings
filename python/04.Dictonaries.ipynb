{
 "cells": [
  {
   "cell_type": "markdown",
   "id": "a9d2171b",
   "metadata": {},
   "source": [
    "# Dictonaries"
   ]
  },
  {
   "cell_type": "markdown",
   "id": "5e18983d",
   "metadata": {},
   "source": [
    "If we want to store data in key value pair then dictonaries are the data strucutre we use also in some other programming languages are known as hash maps \n",
    "key is the unique identifier and value are associated with the keys "
   ]
  },
  {
   "cell_type": "code",
   "execution_count": null,
   "id": "bf37068b",
   "metadata": {},
   "outputs": [],
   "source": [
    "person = {'name': 'Nikhil', 'age': 34, 'courses': ['linux', 'python', 'K8s', 'docker']}\n",
    "\n",
    "print( person)\n",
    "\n",
    "#  target the one value only \n",
    "\n",
    "print(person['name'])\n",
    "\n",
    "\n",
    "# we can also use numbers as key rather than string \n",
    "\n",
    "person1 = {1:'Nikhil', 2:'34'}\n",
    "\n",
    "print(person1[2])\n",
    "\n",
    "#  If key is not prensent and we access that key it will throw error \n",
    "\n",
    "# print(person['phone'])\n",
    "\n",
    "#  to remove the error we use get method on dictonaries return None in case no value \n",
    "\n",
    "print(person.get('phone'))\n",
    "\n",
    "print(person.get('phone', 'Not Found'))  # return the second arg value rather than None \n",
    "\n",
    "\n",
    "#  To update the value also \n",
    "person.update({'phone':1234567890})\n",
    "print(person['phone'])\n"
   ]
  },
  {
   "cell_type": "code",
   "execution_count": null,
   "id": "f15bb53c",
   "metadata": {},
   "outputs": [],
   "source": [
    "# we can also delete the keys of the dictonaries \n",
    "\n",
    "print(person)\n",
    "del person['phone']\n",
    "print(person)\n",
    "\n",
    "# also we can use pop method and same like list it will return the poped value \n",
    "\n",
    "courses = person.pop('courses')\n",
    "\n",
    "print(person)\n",
    "print(courses)\n"
   ]
  },
  {
   "cell_type": "code",
   "execution_count": null,
   "id": "a666d978",
   "metadata": {},
   "outputs": [],
   "source": [
    "# we can also loop through the key and values of the dictonaries \n",
    "\n",
    "person1.items()\n",
    "\n",
    "person.keys()\n",
    "\n",
    "person.values()\n",
    "\n",
    "\n",
    "for key, value in person.items():\n",
    "    print(key, value)"
   ]
  }
 ],
 "metadata": {
  "kernelspec": {
   "display_name": "Python 3",
   "language": "python",
   "name": "python3"
  },
  "language_info": {
   "codemirror_mode": {
    "name": "ipython",
    "version": 3
   },
   "file_extension": ".py",
   "mimetype": "text/x-python",
   "name": "python",
   "nbconvert_exporter": "python",
   "pygments_lexer": "ipython3",
   "version": "3.10.13"
  }
 },
 "nbformat": 4,
 "nbformat_minor": 5
}
